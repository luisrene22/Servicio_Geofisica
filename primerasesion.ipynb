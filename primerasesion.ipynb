{
 "cells": [
  {
   "cell_type": "markdown",
   "metadata": {},
   "source": [
    "La siguiente lista contiene temas que se acordaron investigar el 31 de mayo del 2019, como parte del servicio social en el Intituto de Geofísica de la UNAM."
   ]
  },
  {
   "cell_type": "markdown",
   "metadata": {},
   "source": [
    "## Temas\n",
    "1. Ley Darcy\n",
    "2. Hayba and Ingrebritsen (1994)\n",
    "3. Revisar la Documentación del Sotware HTI (usgss):\n",
    "    *En especifico la parte 2.1.2 Thermal-Energy\n",
    "4. Corroborar las unidades de la Ec.(2.1.4)\n",
    "5. Investigar sobre SSOR y GMRES"
   ]
  },
  {
   "cell_type": "markdown",
   "metadata": {},
   "source": [
    "## Tareas extra propuestas por el alumno\n",
    "1. Documentarse sobre:\n",
    "    *Fortran 90 \n",
    "    *Fortran y python"
   ]
  },
  {
   "cell_type": "markdown",
   "metadata": {},
   "source": [
    "## Ley de Darcy\n",
    "\n",
    "Esta es utilizada para determinar o modelar el comportamiento de un fluido en el subsuelo o si este fluido se halla en un medio poroso.\n",
    "\n",
    "La Ley de Darcy, propuesta hace 161 años, establece que la relación entre la velocidad de descarga y el gradiente hidráulico del flujo del agua en arenas es una invariante del material llamada coeficiente de permeabilidad o conductividad hidráulica, por el ingeniero hidráulico francés de nombre Henry Darcy quien estudió filtros de arenas para purificar el agua, lo que lo llevó a hacer una investigación sobre el movimiento de fluidos en un medio poroso, con base en un sistema diseñado con el nombre de permeámetro [1].\n",
    "\n",
    "La expresión matemática de la Ley de Darcy es la siguiente:\n",
    "\n",
    "$$Q=kA\\frac{h_{3}-h_{4}}{L}\\qquad (1)$$\n",
    "\n",
    "Donde:\n",
    "\n",
    "* $Q$ = Es el gasto, descarga o caudal en $m^{3}/s$.\n",
    "* $L$ = Longitud en metros de la muestra.\n",
    "* $k$ = una constante, actualmente conocida como coeficiente de permeabilidad de Darcy, variable en función del material de la muestra, en $m/s$.\n",
    "* $A$ = Área de la sección transversal de la muestra, en $m^{2}$.\n",
    "* $h_{3}$ =  Altura, sobre el plano de referencia que alcanza el agua en un tubo colocado a la entrada de la capa filtrante.\n",
    "* $h_{4}$ = Altura, sobre el plano de referencia que alcanza el agua en un tubo colocado a la salida de la capa filtrante."
   ]
  },
  {
   "cell_type": "markdown",
   "metadata": {},
   "source": [
    " <img src=https://upload.wikimedia.org/wikipedia/commons/2/22/Ley_de_Darcy.JPG> "
   ]
  },
  {
   "cell_type": "markdown",
   "metadata": {},
   "source": [
    "## Bibliografía\n",
    "[1] L. de, D. Conductividad, and E. de Darcy, “Conductividad,” Geol. Salamanca, 2014."
   ]
  },
  {
   "cell_type": "markdown",
   "metadata": {},
   "source": []
  },
  {
   "cell_type": "markdown",
   "metadata": {},
   "source": []
  }
 ],
 "metadata": {
  "kernelspec": {
   "display_name": "Python 3",
   "language": "python",
   "name": "python3"
  },
  "language_info": {
   "codemirror_mode": {
    "name": "ipython",
    "version": 3
   },
   "file_extension": ".py",
   "mimetype": "text/x-python",
   "name": "python",
   "nbconvert_exporter": "python",
   "pygments_lexer": "ipython3",
   "version": "3.7.3"
  }
 },
 "nbformat": 4,
 "nbformat_minor": 2
}
